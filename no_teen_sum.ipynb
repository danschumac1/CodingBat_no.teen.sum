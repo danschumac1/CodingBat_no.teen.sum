{
 "cells": [
  {
   "cell_type": "markdown",
   "id": "bb9c7e73",
   "metadata": {},
   "source": [
    "# Logic-2 > no_teen_sum"
   ]
  },
  {
   "cell_type": "markdown",
   "id": "5cf188b3",
   "metadata": {},
   "source": [
    "Given 3 int values, a b c, return their sum. However, if any of the values is a teen -- in the range 13..19 inclusive -- then that value counts as 0, except 15 and 16 do not count as a teens. Write a separate helper \"def fix_teen(n):\"that takes in an int value and returns that value fixed for the teen rule. In this way, you avoid repeating the teen code 3 times (i.e. \"decomposition\"). Define the helper below and at the same indent level as the main no_teen_sum().\n",
    "\n",
    "\n",
    "no_teen_sum(1, 2, 3) → 6\n",
    "\n",
    "no_teen_sum(2, 13, 1) → 3\n",
    "\n",
    "no_teen_sum(2, 1, 14) → 3"
   ]
  },
  {
   "cell_type": "code",
   "execution_count": null,
   "id": "a596f7d6",
   "metadata": {},
   "outputs": [],
   "source": [
    "def no_teen_sum(a, b, c):\n",
    "  \n",
    "  def fix_teen(n):\n",
    "    if n in [13,14,17,18,19]:\n",
    "      return 0\n",
    "    else:\n",
    "      return n\n",
    "  \n",
    "  return (fix_teen(a) + fix_teen(b) + fix_teen(c))"
   ]
  }
 ],
 "metadata": {
  "kernelspec": {
   "display_name": "Python 3 (ipykernel)",
   "language": "python",
   "name": "python3"
  },
  "language_info": {
   "codemirror_mode": {
    "name": "ipython",
    "version": 3
   },
   "file_extension": ".py",
   "mimetype": "text/x-python",
   "name": "python",
   "nbconvert_exporter": "python",
   "pygments_lexer": "ipython3",
   "version": "3.9.12"
  }
 },
 "nbformat": 4,
 "nbformat_minor": 5
}
